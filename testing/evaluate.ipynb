{
 "cells": [
  {
   "cell_type": "code",
   "execution_count": 14,
   "metadata": {},
   "outputs": [
    {
     "name": "stdout",
     "output_type": "stream",
     "text": [
      " * Serving Flask app '__main__'\n",
      " * Debug mode: on\n"
     ]
    },
    {
     "name": "stderr",
     "output_type": "stream",
     "text": [
      "WARNING: This is a development server. Do not use it in a production deployment. Use a production WSGI server instead.\n",
      " * Running on all addresses (0.0.0.0)\n",
      " * Running on http://127.0.0.1:5002\n",
      " * Running on http://192.168.29.104:5002\n",
      "Press CTRL+C to quit\n",
      " * Restarting with stat\n"
     ]
    },
    {
     "ename": "SystemExit",
     "evalue": "1",
     "output_type": "error",
     "traceback": [
      "An exception has occurred, use %tb to see the full traceback.\n",
      "\u001b[1;31mSystemExit\u001b[0m\u001b[1;31m:\u001b[0m 1\n"
     ]
    },
    {
     "name": "stderr",
     "output_type": "stream",
     "text": [
      "c:\\Users\\Priti V\\collegeproject\\ML\\venv\\Lib\\site-packages\\IPython\\core\\interactiveshell.py:3587: UserWarning: To exit: use 'exit', 'quit', or Ctrl-D.\n",
      "  warn(\"To exit: use 'exit', 'quit', or Ctrl-D.\", stacklevel=1)\n"
     ]
    }
   ],
   "source": [
    "from flask import Flask, request, jsonify, send_file\n",
    "import joblib\n",
    "import pandas as pd\n",
    "import matplotlib.pyplot as plt\n",
    "import os\n",
    "\n",
    "app = Flask(__name__)\n",
    "\n",
    "# Load trained response analysis model (Train it if not done)\n",
    "response_analyzer = joblib.load(\"C:/Users/Priti V/collegeproject/ML/models/student_response_analyzer.pkl\")\n",
    "\n",
    "# Ensure directory exists for reports\n",
    "os.makedirs(\"static/reports\", exist_ok=True)\n",
    "\n",
    "@app.route(\"/analyze_response\", methods=[\"POST\"])\n",
    "def analyze_response():\n",
    "    data = request.json  # Expecting a JSON payload with 'student_id' and 'responses'\n",
    "    student_id = data.get(\"student_id\")\n",
    "    responses = pd.DataFrame(data.get(\"responses\"))\n",
    "    \n",
    "    # Check if correct answers\n",
    "    responses['Correct'] = responses['Selected Answer'] == responses['Correct Answer']\n",
    "    \n",
    "    # Calculate skill performance\n",
    "    skill_performance = responses.groupby('Skill Type')['Correct'].mean() * 100\n",
    "    \n",
    "    # Generate bar chart\n",
    "    img_path = f\"static/reports/student_{student_id}.png\"\n",
    "    skill_performance.plot(kind='bar', color=['blue', 'green', 'red'])\n",
    "    plt.xlabel(\"Skills\")\n",
    "    plt.ylabel(\"Performance (%)\")\n",
    "    plt.title(f\"Student {student_id} Performance Report\")\n",
    "    plt.ylim(0, 100)\n",
    "    plt.savefig(img_path)  # Save image\n",
    "    plt.close()\n",
    "    \n",
    "    return jsonify({\"message\": \"Report generated!\", \"image_url\": f\"http://127.0.0.1:5002/{img_path}\"})\n",
    "\n",
    "# Serve static images\n",
    "@app.route(\"/static/reports/<filename>\")\n",
    "def get_report_image(filename):\n",
    "    return send_file(f\"static/reports/{filename}\", mimetype=\"image/png\")\n",
    "\n",
    "if __name__ == \"__main__\":\n",
    "    app.run(host=\"0.0.0.0\", port=5002, debug=True)\n"
   ]
  },
  {
   "cell_type": "code",
   "execution_count": 16,
   "metadata": {},
   "outputs": [],
   "source": [
    "import pandas as pd\n",
    "import matplotlib.pyplot as plt\n",
    "import seaborn as sns\n",
    "import joblib\n",
    "import os\n",
    "\n",
    "# Load student responses dataset\n",
    "df = pd.read_csv(\"C:/Users/Priti V/collegeproject/ML/data/raw/student_responses.csv\")\n",
    "\n",
    "def analyze_student_performance(student_id):\n",
    "    \"\"\"\n",
    "    Analyze student responses and generate a performance report.\n",
    "    \"\"\"\n",
    "    # Filter data for the given student\n",
    "    student_data = df[df[\"Student ID\"] == student_id]\n",
    "\n",
    "    if student_data.empty:\n",
    "        print(f\"No data found for Student ID: {student_id}\")\n",
    "        return\n",
    "\n",
    "    # Check correctness of answers\n",
    "    student_data[\"Correct\"] = student_data[\"Selected Answer\"] == student_data[\"Correct Answer\"]\n",
    "\n",
    "    # Calculate performance by skill type\n",
    "    skill_performance = student_data.groupby(\"Skill Type\")[\"Correct\"].mean() * 100\n",
    "\n",
    "    # Plot bar chart for visualization\n",
    "    plt.figure(figsize=(8, 5))\n",
    "    sns.barplot(x=skill_performance.index, y=skill_performance.values, palette=\"viridis\")\n",
    "    plt.xlabel(\"Skill Type\")\n",
    "    plt.ylabel(\"Accuracy (%)\")\n",
    "    plt.title(f\"Student Performance Report (ID: {student_id})\")\n",
    "    plt.ylim(0, 100)\n",
    "    plt.xticks(rotation=45)\n",
    "\n",
    "    # Save the generated report\n",
    "    os.makedirs(\"static/reports\", exist_ok=True)\n",
    "    report_path = f\"static/reports/student_{student_id}_report.png\"\n",
    "    plt.savefig(report_path)\n",
    "    plt.close()\n",
    "\n",
    "    print(f\"Report generated and saved at: {report_path}\")\n",
    "    return report_path\n",
    "\n",
    "# Example usage:\n",
    "# analyze_student_performance(student_id=101)\n"
   ]
  }
 ],
 "metadata": {
  "kernelspec": {
   "display_name": "venv",
   "language": "python",
   "name": "python3"
  },
  "language_info": {
   "codemirror_mode": {
    "name": "ipython",
    "version": 3
   },
   "file_extension": ".py",
   "mimetype": "text/x-python",
   "name": "python",
   "nbconvert_exporter": "python",
   "pygments_lexer": "ipython3",
   "version": "3.12.3"
  }
 },
 "nbformat": 4,
 "nbformat_minor": 2
}
